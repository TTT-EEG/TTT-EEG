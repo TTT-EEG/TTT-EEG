{
 "cells": [
  {
   "cell_type": "code",
   "execution_count": 1,
   "metadata": {},
   "outputs": [],
   "source": [
    "import mne \n",
    "import numpy as np\n",
    "import matplotlib.pyplot as plt\n",
    "import pickle \n",
    "%matplotlib inline "
   ]
  },
  {
   "cell_type": "code",
   "execution_count": 2,
   "metadata": {},
   "outputs": [],
   "source": [
    "def getAsynchrony(data, onset, offset, peak):\n",
    "    '''\n",
    "    data: (times, channels)\n",
    "    onset: int\n",
    "    offset: int\n",
    "    peak: int\n",
    "    '''\n",
    "    from scipy.signal import argrelextrema\n",
    "    ntimes, nchannels = data.shape[0],data.shape[1]\n",
    "\n",
    "    # channel peak might be a peak or a valley\n",
    "    array = np.zeros((ntimes,nchannels))\n",
    "    for i in range(nchannels):\n",
    "        x = data[:,i]\n",
    "    #     xhat = smooth(x, 20)\n",
    "        xhat = x\n",
    "        # for local maxima\n",
    "        maxima = argrelextrema(xhat, np.greater, order = 12)\n",
    "\n",
    "        # for local minima\n",
    "        minima = argrelextrema(xhat, np.less, order = 12)\n",
    "\n",
    "        array[maxima, i] = 1\n",
    "        array[minima, i] = -1\n",
    "\n",
    "\n",
    "\n",
    "    tick = np.empty((nchannels,2))\n",
    "\n",
    "    # search each channel\n",
    "    for i in range(nchannels):\n",
    "        # find the channel peak that is earlier than the component peak\n",
    "        peak_b = np.where(array[:peak + 1,i] == 1)[-1][-1]\n",
    "        valley_b = np.where(array[:peak + 1,i] == -1)[-1][-1]\n",
    "        tick[i,0] = max(peak_b,valley_b)\n",
    "\n",
    "        # find the channel peak that is later than the component peak\n",
    "        peak_a = np.where(array[peak - 1:, i] == 1)[0][0] + peak - 1\n",
    "        valley_a = np.where(array[peak - 1:, i] == -1)[0][0] + peak - 1\n",
    "        tick[i,1] = min(peak_a, valley_a)\n",
    "\n",
    "    # choose the earlier or later peak, find the more plausible one\n",
    "    temp = np.less(np.abs(tick - peak)[:,0],np.abs(tick - peak)[:,1])\n",
    "    mask = np.array([temp*1, 1- temp*1]).T\n",
    "    asynchronyData = tick - peak\n",
    "    asynchronyData = np.sum(asynchronyData* mask, 1)\n",
    "\n",
    "    # If any one of the channel peak time is earlier than onset time or later than offset time, we identify that as an outlier.\n",
    "    # In most case, there's just no peak for this channel, so we set it to zero, and collect the number of outliers as an index of confidence.\n",
    "\n",
    "    # find the ealier outliers, and set them to zero\n",
    "    earlierOutliers = sum(asynchronyData < (onset - peak))\n",
    "    asynchronyData[asynchronyData < (onset - peak) ] = 0\n",
    "\n",
    "    # find the number of later outliers, and set them to zero\n",
    "    lateOutliers = sum(asynchronyData > (offset - peak))\n",
    "    asynchronyData[asynchronyData > (offset - peak) ] = 0\n",
    "\n",
    "\n",
    "    asynchronySTD = np.std(asynchronyData) # in the unit of milliseconds\n",
    "\n",
    "    return asynchronyData, asynchronySTD\n"
   ]
  },
  {
   "cell_type": "code",
   "execution_count": 4,
   "metadata": {},
   "outputs": [],
   "source": [
    "from peakHunter import peakHunter"
   ]
  },
  {
   "cell_type": "code",
   "execution_count": 57,
   "metadata": {},
   "outputs": [],
   "source": [
    "roi1 = 350\n",
    "roi2 = 520\n",
    "with open(r'C:/EEG_TemporalAnalysis/Data/sampleEvoked.pkl', 'rb') as f:\n",
    "    data = pickle.load(f)\n",
    "# sig = np.squeeze(data[0,4,:,:]).T\n",
    "\n",
    "sig = np.mean(data[2,:,:,:],0).T"
   ]
  },
  {
   "cell_type": "code",
   "execution_count": 58,
   "metadata": {},
   "outputs": [
    {
     "data": {
      "text/plain": [
       "375"
      ]
     },
     "execution_count": 58,
     "metadata": {},
     "output_type": "execute_result"
    }
   ],
   "source": [
    "onset\n",
    "\n",
    "offset\n",
    "\n",
    "peak\n",
    "\n",
    "sig\n",
    "\n",
    "d, std = getAsynchrony(sig, onset, offset, peak)"
   ]
  }
 ],
 "metadata": {
  "kernelspec": {
   "display_name": "Python 3",
   "language": "python",
   "name": "python3"
  },
  "language_info": {
   "codemirror_mode": {
    "name": "ipython",
    "version": 3
   },
   "file_extension": ".py",
   "mimetype": "text/x-python",
   "name": "python",
   "nbconvert_exporter": "python",
   "pygments_lexer": "ipython3",
   "version": "3.6.6"
  }
 },
 "nbformat": 4,
 "nbformat_minor": 2
}
